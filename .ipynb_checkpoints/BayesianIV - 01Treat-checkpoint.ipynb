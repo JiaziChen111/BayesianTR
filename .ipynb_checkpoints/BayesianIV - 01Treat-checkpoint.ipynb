{
 "cells": [
  {
   "cell_type": "markdown",
   "metadata": {},
   "source": [
    "# Bayesian Treatment and Response - Part II\n",
    "\n",
    "In the initial notebook, we got the basic ideas going. Now, we make the problem a little more complex by adding a dichotomous treatment. This introduces some nuances into the problem that highlight some of the points of interest of a Bayesian approach. So, let's discuss the new model. \n",
    "\n",
    "## Treatment and Control Groups\n",
    "\n",
    "WE now discuss a case in which there are a treatment and control group. We might think about this more generally as an endogenous switching regression, where agents select into different groups in part based on things we observe about them. Let's take treatment to be a dichotomous variable $z = \\{0,1\\}$, and we observe $z=1$ if some underlying latent variable $z^*$, is greater than zero, and $z=0$ otherwise. \n",
    "\n",
    "As a practical matter, we think of the selection-into-treatment equation as a Probit model, where:\n",
    "$$\n",
    "z^* = \\eta W + u_c + \\epsilon_z\n",
    "$$\n",
    "And \n",
    "$$ \\begin{array}{ccc}\n",
    "z = 1 & \\textrm{if} & z^* = \\eta W + u_c + e_z > 0 \\\\\n",
    "z = 0 & \\textrm{otherwise} &\n",
    "\\end{array}\n",
    "$$\n",
    "\n",
    "Outcome equations differ based on whether or not the individual is treated. If $z=1$, the following equation explains the outcome $y$:\n",
    "$$\n",
    "y_1 = X\\beta_1 + \\pi_{1r}u_r + \\pi_{1c}u_c + e_1\n",
    "$$\n",
    "and if $z=0$,\n",
    "$$\n",
    "y_0 = X\\beta_0 + \\pi_{0r}u_r + \\pi_{0c}u_c + e_0\n",
    "$$\n",
    "\n",
    "The terms $u_r$, and $u_c$ are once again specified as standard normal random variables. These, once again, are unobserved latent factors that we shall consider parameters like all the other parameters in the model. Note that I have assumed there are two such factors. One, $u_c$ (the c is a mnemonic for \"common\"), induces correlation across outcomes and treatment. The other, $u_r$, appears only in the outcome equations (the r is a mnemonic for \"result\"), and induces correlation across outcomes. \n",
    "\n",
    "### P oint of interest\n",
    "\n",
    "In observational data, we never actually observe both outcomes for a given individual. I.e., we don't see what happens to a patient if he or she both takes and does not take a medication. But a Bayesian method allows us to consider this as well - the idea is to treat the unobserved outcome as yet another latent variable that is estimated/simulated along with everything else. \n",
    "\n",
    "To see how model parameters capture correlation in outcomes, note that the (unconditional) variance matrix of the outcomes and treatment is:\n",
    "\n",
    "$$\n",
    "\\Sigma = \\left[\n",
    "\\begin{array}{ccc}\n",
    "\\sigma_1^2 + \\pi_{1r}^2+\\pi_{1c}^2 & \\pi_{1r}\\pi_{0r}+\\pi_{1c}\\pi_{0c} & \\pi_{1c} \\\\\n",
    "                                   & \\sigma_0^2 + \\pi_{0r}^2+\\pi_{0c}^2 & \\pi_{0c} \\\\\n",
    "                                   &      &  \\sigma_z^2 + 1 \n",
    "\\end{array}\n",
    "\\right]\n",
    "$$\n",
    "Usually, we have to also assume that $\\sigma_z=1$ because of the indeterminacy of the scale parameter in a probit model. \n",
    "\n",
    "\n",
    "\n",
    "\n"
   ]
  },
  {
   "cell_type": "markdown",
   "metadata": {
    "collapsed": true
   },
   "source": [
    "So, given all of this, let's write the likelihood of everything in the model as follows:\n",
    "\n",
    "$$\n",
    "L = \\frac{e^{-\\frac{(y_1-X\\beta_1-\\pi_{r1}u_r-\\pi_{c1}u_c)^2}{2\\sigma_1^2}}}{\\sqrt{2\\pi \\sigma_1^2}} \\times \\frac{e^{-\\frac{(y_0-X\\beta_0-\\pi_{r0}u_r-\\pi_{c0}u_c)^2}{2\\sigma_0^2}}}{\\sqrt{2\\pi \\sigma_0^2}} \\times \\\\\n",
    "\\frac{e^{-\\frac{(z_1-W\\eta-u_c)^2}{2}}}{\\sqrt{2\\pi}} \\times \\textrm{Prior}\n",
    "$$"
   ]
  },
  {
   "cell_type": "markdown",
   "metadata": {},
   "source": [
    "As written, the likelihood above assumes that everything is known. Of course, many things in the problem are not, such as the unobserved outcome and also the actual value of the latent variable $z$. But, in a Bayesian analysis, we just draw these variables along with everything else. Let's consider another `Stata` implementation of this model, where we draw unobserved outcomes along with everything else. "
   ]
  },
  {
   "cell_type": "markdown",
   "metadata": {
    "collapsed": true
   },
   "source": [
    "## Example application"
   ]
  },
  {
   "cell_type": "markdown",
   "metadata": {},
   "source": [
    "As usual, we will work with a stock Stata example and use the `ipystata` interface. Here, we use the classic union data set and try to get a feel for the impact of union membership on wages. So, in this case, we have a dichotomous treatment variable with one instrument (in the south). \n",
    "\n",
    "To flesh out the research problem further, we might be worried that this instrument isn't all that great. \n",
    "\n",
    "We start by importing ipystata, and then reading in the data:"
   ]
  },
  {
   "cell_type": "code",
   "execution_count": 1,
   "metadata": {
    "collapsed": false
   },
   "outputs": [
    {
     "data": {
      "application/javascript": [
       "IPython.CodeCell.config_defaults.highlight_modes['magic_stata'] = {'reg':[/^%%stata/]};"
      ]
     },
     "metadata": {},
     "output_type": "display_data"
    }
   ],
   "source": [
    "import ipystata"
   ]
  },
  {
   "cell_type": "code",
   "execution_count": 2,
   "metadata": {
    "collapsed": false
   },
   "outputs": [
    {
     "name": "stdout",
     "output_type": "stream",
     "text": [
      "\n",
      "(National Longitudinal Survey.  Young Women 14-26 years of age in 1968)\n",
      "(449 observations deleted)\n",
      "(34 observations deleted)\n",
      "\n",
      "Contains data from http://www.stata-press.com/data/r13/union3.dta\n",
      "  obs:         1,210                          National Longitudinal Survey.\n",
      "                                                Young Women 14-26 years of age\n",
      "                                                in 1968\n",
      " vars:            24                          11 Mar 2013 09:47\n",
      " size:        55,660                          \n",
      "--------------------------------------------------------------------------------\n",
      "              storage   display    value\n",
      "variable name   type    format     label      variable label\n",
      "--------------------------------------------------------------------------------\n",
      "idcode          int     %8.0g                 NLS ID\n",
      "year            byte    %8.0g                 interview year\n",
      "birth_yr        byte    %8.0g                 birth year\n",
      "age             byte    %8.0g                 age in current year\n",
      "race            byte    %8.0g      racelbl    race\n",
      "msp             byte    %8.0g                 1 if married, spouse present\n",
      "nev_mar         byte    %8.0g                 1 if never married\n",
      "grade           byte    %8.0g                 current grade completed\n",
      "collgrad        byte    %8.0g                 1 if college graduate\n",
      "not_smsa        byte    %8.0g                 1 if not SMSA\n",
      "c_city          byte    %8.0g                 1 if central city\n",
      "south           byte    %8.0g                 1 if south\n",
      "ind_code        byte    %8.0g                 industry of employment\n",
      "occ_code        byte    %8.0g                 occupation\n",
      "union           byte    %8.0g                 1 if union\n",
      "wks_ue          byte    %8.0g                 weeks unemployed last year\n",
      "ttl_exp         float   %9.0g                 total work experience\n",
      "tenure          float   %9.0g                 job tenure, in years\n",
      "hours           int     %8.0g                 usual hours worked\n",
      "wks_work        int     %8.0g                 weeks worked last year\n",
      "ln_wage         float   %9.0g                 ln(wage/GNP deflator)\n",
      "wage            double  %10.0g                real wage\n",
      "black           float   %9.0g                 race black\n",
      "smsa            byte    %8.0g                 1 if SMSA\n",
      "--------------------------------------------------------------------------------\n",
      "Sorted by: idcode  year\n",
      "     Note: Dataset has changed since last saved.\n"
     ]
    }
   ],
   "source": [
    "%%stata\n",
    "clear all \n",
    "use http://www.stata-press.com/data/r13/union3\n",
    "set more off\n",
    "keep if union != . \n",
    "keep if tenure != .\n",
    "describe \n",
    "set seed 5150"
   ]
  },
  {
   "cell_type": "markdown",
   "metadata": {},
   "source": [
    "Now, let's just fit some preliminary models and get a feel for the problem:\n",
    "\n",
    "### Simple regression"
   ]
  },
  {
   "cell_type": "code",
   "execution_count": 3,
   "metadata": {
    "collapsed": false
   },
   "outputs": [
    {
     "name": "stdout",
     "output_type": "stream",
     "text": [
      "\n",
      "      Source |       SS           df       MS      Number of obs   =     1,210\n",
      "-------------+----------------------------------   F(6, 1203)      =    103.36\n",
      "       Model |  2163.49455         6  360.582425   Prob > F        =    0.0000\n",
      "    Residual |  4196.70492     1,203  3.48853277   R-squared       =    0.3402\n",
      "-------------+----------------------------------   Adj R-squared   =    0.3369\n",
      "       Total |  6360.19947     1,209  5.26071089   Root MSE        =    1.8678\n",
      "\n",
      "------------------------------------------------------------------------------\n",
      "        wage |      Coef.   Std. Err.      t    P>|t|     [95% Conf. Interval]\n",
      "-------------+----------------------------------------------------------------\n",
      "         age |   .1475526   .0195242     7.56   0.000     .1092474    .1858578\n",
      "       grade |   .4368545   .0294718    14.82   0.000     .3790327    .4946764\n",
      "        smsa |   .9754817   .1252669     7.79   0.000     .7297159    1.221248\n",
      "       black |  -.6183346      .1252    -4.94   0.000    -.8639693   -.3726999\n",
      "      tenure |   .2118016   .0338481     6.26   0.000     .1453938    .2782094\n",
      "       union |   1.003913   .1338083     7.50   0.000     .7413894    1.266437\n",
      "       _cons |  -4.326028   .5315474    -8.14   0.000    -5.368891   -3.283165\n"
     ]
    }
   ],
   "source": [
    "%%stata\n",
    "regress wage age grade smsa black tenure union"
   ]
  },
  {
   "cell_type": "markdown",
   "metadata": {},
   "source": [
    "Treatment regression (with endogeneity) and a standard IV regression, which ignores the dichotomous nature of the treatment variable. "
   ]
  },
  {
   "cell_type": "code",
   "execution_count": 4,
   "metadata": {
    "collapsed": false
   },
   "outputs": [
    {
     "name": "stdout",
     "output_type": "stream",
     "text": [
      "\n",
      "Iteration 0:   log likelihood =  -3140.811  \n",
      "Iteration 1:   log likelihood = -3053.6629  \n",
      "Iteration 2:   log likelihood = -3051.5847  \n",
      "Iteration 3:   log likelihood =  -3051.575  \n",
      "Iteration 4:   log likelihood =  -3051.575  \n",
      "\n",
      "Linear regression with endogenous treatment     Number of obs     =      1,210\n",
      "Estimator: maximum likelihood                   Wald chi2(6)      =     681.89\n",
      "Log likelihood =  -3051.575                     Prob > chi2       =     0.0000\n",
      "\n",
      "------------------------------------------------------------------------------\n",
      "             |      Coef.   Std. Err.      z    P>|z|     [95% Conf. Interval]\n",
      "-------------+----------------------------------------------------------------\n",
      "wage         |\n",
      "         age |   .1487409   .0193291     7.70   0.000     .1108566    .1866252\n",
      "       grade |   .4205658   .0293577    14.33   0.000     .3630258    .4781058\n",
      "        smsa |   .9117044   .1249041     7.30   0.000     .6668969    1.156512\n",
      "       black |  -.7882471   .1367078    -5.77   0.000     -1.05619   -.5203048\n",
      "      tenure |   .1524015   .0369596     4.12   0.000     .0799621    .2248409\n",
      "     1.union |   2.945815   .2749621    10.71   0.000       2.4069    3.484731\n",
      "       _cons |  -4.351572   .5283952    -8.24   0.000    -5.387208   -3.315936\n",
      "-------------+----------------------------------------------------------------\n",
      "union        |\n",
      "       south |  -.5807419   .0851111    -6.82   0.000    -.7475566   -.4139271\n",
      "       black |   .4557499   .0958042     4.76   0.000     .2679771    .6435226\n",
      "      tenure |   .0871536   .0232483     3.75   0.000     .0415878    .1327195\n",
      "       _cons |  -.8855758   .0724506   -12.22   0.000    -1.027576   -.7435753\n",
      "-------------+----------------------------------------------------------------\n",
      "     /athrho |  -.6544347   .0910314    -7.19   0.000     -.832853   -.4760164\n",
      "    /lnsigma |   .7026769   .0293372    23.95   0.000      .645177    .7601767\n",
      "-------------+----------------------------------------------------------------\n",
      "         rho |  -.5746478    .060971                      -.682005   -.4430476\n",
      "       sigma |   2.019151   .0592362                      1.906325    2.138654\n",
      "      lambda |    -1.1603   .1495097                     -1.453334   -.8672668\n",
      "------------------------------------------------------------------------------\n",
      "LR test of indep. eqns. (rho = 0):   chi2(1) =    19.84   Prob > chi2 = 0.0000\n",
      "> first\n",
      "\n",
      "First-stage regressions\n",
      "-----------------------\n",
      "\n",
      "                                                Number of obs     =      1,210\n",
      "                                                F(   6,   1203)   =       9.82\n",
      "                                                Prob > F          =     0.0000\n",
      "                                                R-squared         =     0.0467\n",
      "                                                Adj R-squared     =     0.0419\n",
      "                                                Root MSE          =     0.3982\n",
      "\n",
      "------------------------------------------------------------------------------\n",
      "       union |      Coef.   Std. Err.      t    P>|t|     [95% Conf. Interval]\n",
      "-------------+----------------------------------------------------------------\n",
      "         age |   .0012925   .0041836     0.31   0.757    -.0069155    .0095005\n",
      "       grade |  -.0051057   .0063163    -0.81   0.419    -.0174978    .0072865\n",
      "        smsa |   .0139518   .0273942     0.51   0.611    -.0397939    .0676975\n",
      "       black |   .1204054   .0277435     4.34   0.000     .0659745    .1748363\n",
      "      tenure |   .0281049   .0071804     3.91   0.000     .0140174    .0421924\n",
      "       south |  -.1293316   .0254879    -5.07   0.000    -.1793373   -.0793258\n",
      "       _cons |   .1949484   .1138578     1.71   0.087    -.0284335    .4183303\n",
      "------------------------------------------------------------------------------\n",
      "\n",
      "\n",
      "Instrumental variables (2SLS) regression          Number of obs   =      1,210\n",
      "                                                  Wald chi2(6)    =     328.97\n",
      "                                                  Prob > chi2     =     0.0000\n",
      "                                                  R-squared       =          .\n",
      "                                                  Root MSE        =     2.5132\n",
      "\n",
      "------------------------------------------------------------------------------\n",
      "        wage |      Coef.   Std. Err.      z    P>|z|     [95% Conf. Interval]\n",
      "-------------+----------------------------------------------------------------\n",
      "       union |   5.209516   1.243822     4.19   0.000     2.771671    7.647362\n",
      "         age |   .1510829   .0262919     5.75   0.000     .0995518     .202614\n",
      "       grade |     .44454   .0397207    11.19   0.000     .3666887    .5223912\n",
      "        smsa |   .7837403   .1776521     4.41   0.000     .4355486    1.131932\n",
      "       black |   -.956063   .1953186    -4.89   0.000     -1.33888   -.5732456\n",
      "      tenure |   .0830371   .0591126     1.40   0.160    -.0328214    .1988957\n",
      "       _cons |  -4.897092   .7345097    -6.67   0.000    -6.336704   -3.457479\n",
      "------------------------------------------------------------------------------\n",
      "Instrumented:  union\n",
      "Instruments:   age grade smsa black tenure south\n"
     ]
    }
   ],
   "source": [
    "%%stata\n",
    "etregress wage age grade smsa black tenure, treat(union = south black tenure)\n",
    "ivregress 2sls wage age grade smsa black tenure (union = south black tenure), first"
   ]
  },
  {
   "cell_type": "markdown",
   "metadata": {},
   "source": [
    "Now, let's read the data into `Mata`, and also get some initial values into `Mata` in anticipation of estimation routines. "
   ]
  },
  {
   "cell_type": "code",
   "execution_count": 5,
   "metadata": {
    "collapsed": false
   },
   "outputs": [
    {
     "name": "stdout",
     "output_type": "stream",
     "text": [
      "\n",
      ":     st_view(y=., ., \"wage\")\n",
      "\n",
      ":     st_view(tr=., ., \"union\")\n",
      "\n",
      ":     st_view(X=., ., \"age grade smsa black tenure\")\n",
      "\n",
      ":     st_view(W=., ., \"south black tenure\")\n",
      "\n",
      ":     X = X, J(rows(y), 1, 1)\n",
      "\n",
      ":     W = W, J(rows(y), 1, 1)\n",
      "\n",
      "--------------------------------------------------------------------------------\n",
      "------------------------------------------------- mata (type end to exit) ------\n",
      ":     b1 = st_matrix(\"binit1\"), 0, 0\n",
      "\n",
      ":     b0 = st_matrix(\"binit0\"), 0, 0\n",
      "\n",
      ":     e = st_matrix(\"einit\")\n",
      "\n",
      ":     nb = cols(b1)\n",
      "\n",
      ":     ne = cols(e)\n"
     ]
    }
   ],
   "source": [
    "%%stata\n",
    "mata:\n",
    "    st_view(y=., ., \"wage\")\n",
    "    st_view(tr=., ., \"union\")\n",
    "    st_view(X=., ., \"age grade smsa black tenure\")\n",
    "    st_view(W=., ., \"south black tenure\")\n",
    "    X = X, J(rows(y), 1, 1)\n",
    "    W = W, J(rows(y), 1, 1)\n",
    "end\n",
    "\n",
    "quietly reg wage age grade smsa black tenure if union == 1\n",
    "mat binit1 = e(b)\n",
    "\n",
    "quietly reg wage age grade smsa black tenure if union == 0\n",
    "mat binit0 = e(b) \n",
    "\n",
    "quietly probit union south black tenure\n",
    "mat einit = e(b)\n",
    "\n",
    "\n",
    "mata: \n",
    "    b1 = st_matrix(\"binit1\"), 0, 0\n",
    "    b0 = st_matrix(\"binit0\"), 0, 0\n",
    "    e = st_matrix(\"einit\")\n",
    "    nb = cols(b1)\n",
    "    ne = cols(e)\n",
    "end"
   ]
  },
  {
   "cell_type": "markdown",
   "metadata": {},
   "source": [
    "One further thing we need to do is make a more stable inverse-normal function. This is because if a normal probability winds up being either one or zero, the stock invnormal function will return a missing. We don't want this to stop estimation in its tracks. "
   ]
  },
  {
   "cell_type": "code",
   "execution_count": 6,
   "metadata": {
    "collapsed": false
   },
   "outputs": [
    {
     "name": "stdout",
     "output_type": "stream",
     "text": [
      "\n",
      ":     real matrix invnormstab(X) {\n",
      ">         XHat = editvalue(X, 0, 1e-323)\n",
      ">         XHat = editvalue(XHat, 1, 1e-16 )\n",
      ">         return(XHat)\n",
      ">     }\n",
      "\n",
      ":     end\n"
     ]
    }
   ],
   "source": [
    "%%stata \n",
    "mata:\n",
    "    real matrix invnormstab(X) {\n",
    "        XHat = editvalue(X, 0, 1e-323)\n",
    "        XHat = editvalue(XHat, 1, 1e-16 )\n",
    "        return(XHat)\n",
    "    }\n",
    "    end"
   ]
  },
  {
   "cell_type": "markdown",
   "metadata": {},
   "source": [
    "Now, we make some placeholders for parameters, also put some prior distributions into action. Here it goes:"
   ]
  },
  {
   "cell_type": "code",
   "execution_count": 7,
   "metadata": {
    "collapsed": false
   },
   "outputs": [
    {
     "name": "stdout",
     "output_type": "stream",
     "text": [
      "\n",
      ":     b1Hold        = J(0, nb, .)\n",
      "\n",
      ":     b0Hold        = J(0, nb, .)\n",
      "\n",
      ":     eHold         = J(0, ne, .)\n",
      "\n",
      ":     sy1Hold       = J(0, 1, .)\n",
      "\n",
      ":     sy0Hold       = J(0, 1, .)\n",
      "\n",
      ":     uHold         = J(rows(y),0,.)\n",
      "\n",
      ":     Tb = I(nb)*100\n",
      "\n",
      ":     Te = I(ne)*100\n",
      "\n",
      ":     uc = rnormal(rows(y), 1, 0, 1)\n",
      "\n",
      ":     sy02 = 1\n",
      "\n",
      ":     \n",
      ":     draws = 10000\n"
     ]
    }
   ],
   "source": [
    "%%stata\n",
    "mata:\n",
    "    b1Hold        = J(0, nb, .)\n",
    "    b0Hold        = J(0, nb, .)\n",
    "    eHold         = J(0, ne, .)\n",
    "    sy1Hold       = J(0, 1, .)\n",
    "    sy0Hold       = J(0, 1, .)\n",
    "    uHold         = J(rows(y),0,.)\n",
    "\n",
    "\n",
    "    Tb = I(nb)*100\n",
    "    Te = I(ne)*100\n",
    "\n",
    "    ur = rnormal(rows(y), 1, 0, 1)\n",
    "    uc = rnormal(rows(y), 1, 0, 1)\n",
    "\n",
    "    sy12 = 1\n",
    "    sy02 = 1\n",
    "    \n",
    "    draws = 10000\n",
    "end"
   ]
  },
  {
   "cell_type": "code",
   "execution_count": 8,
   "metadata": {
    "collapsed": false
   },
   "outputs": [
    {
     "name": "stdout",
     "output_type": "stream",
     "text": [
      "\n",
      ":     for (d=1;d<=draws;d++) {\n",
      "> \n",
      ">         Xu = (X, ur, uc)\n",
      ">         y0Hat = Xu*b0' :+ rnormal(rows(y) , 1, 0, 1):*sqrt(sy02)\n",
      ">         y1Hat = Xu*b1' :+ rnormal(rows(y) , 1, 0, 1):*sqrt(sy12)\n",
      ">         y1 = tr:*y :+ (1 :- tr):*y1Hat\n",
      ">         y0 = (1 :- tr):*y :+ tr:*y0Hat\n",
      "> \n",
      ">         muz = W*e' :+ uc\n",
      ">         et  = invnormstab( normal(-muz) :+ (1 :- normal(-muz)):*runiform(rows(\n",
      "> muz),1) )\n",
      ">         ent = invnormstab( normal(-muz):*runiform(rows(muz),1))\n",
      ">         z = muz :+ et:*tr :+ ent:*(1:-tr)\n",
      ">         meane = invsym(W'W + invsym(Te))*W'(z :- uc)\n",
      ">         vare  = invsym(W'W + invsym(Te))\n",
      ">         e = meane + cholesky(vare)*rnormal(cols(e),1,0,1)\n",
      ">         e = e'\n",
      "> \n",
      ">         Xu = X, ur, uc\n",
      ">         mb1 = invsym(Xu'Xu + invsym(Tb))*Xu'y1\n",
      ">         mb0 = invsym(Xu'Xu + invsym(Tb))*Xu'y0\n",
      ">         vb1 = sy12*invsym(Xu'Xu + invsym(Tb))\n",
      ">         vb0 = sy02*invsym(Xu'Xu + invsym(Tb))\n",
      ">         chol1b = cholesky(vb1)\n",
      ">         chol0b = cholesky(vb0)\n",
      ">         b1 = mb1 + chol1b*rnormal(nb, 1, 0, 1)\n",
      ">         b1 = b1'\n",
      ">         b0 = mb0 + chol0b*rnormal(nb, 1, 0, 1)\n",
      ">         b0 = b0'\n",
      "> \n",
      ">         shp = rows(y)/2\n",
      ">         scl = (y-Xu*b1')'(y-Xu*b1')/2\n",
      ">         scl = 1/scl\n",
      ">         sy12 = rgamma(1, 1, shp, scl)\n",
      "> \n",
      ">         scl = (y-Xu*b0')'(y-Xu*b0')/2\n",
      ">         scl = 1/scl\n",
      ">         sy02 = rgamma(1, 1, shp, scl)\n",
      "> \n",
      ">         b1Hold  =  b1Hold \\ b1\n",
      ">         b0Hold  = b0Hold \\ b0\n",
      ">         eHold   =  eHold \\ e\n",
      ">         sy1Hold =  sy1Hold \\ sy12\n",
      ">         sy0Hold =  sy0Hold \\ sy02\n",
      ">         \n",
      ">         /* Draw latent vars */\n",
      ">         \n",
      ">         pi1r = b1[cols(b1) - 1]\n",
      ">         pi0r = b0[cols(b0) - 1]\n",
      ">         b1z = b1\n",
      ">         b0z = b0\n",
      ">         b1z[cols(b1) - 1] = 0\n",
      ">         b0z[cols(b0) - 1] = 0\n",
      ">         A = (pi1r^2/sy12 + pi0r^2/sy02 + 1)\n",
      ">         B = (y1 - Xu*b1z')*pi1r/sy12 + (y0 - Xu*b0z')*pi0r/sy02\n",
      ">         ur = B/A + rnormal(rows(y), 1 , 0, 1/A)\n",
      "> \n",
      ">         pi1c = b1[cols(b1)]\n",
      ">         pi0c = b0[cols(b0)]\n",
      ">         b1z = b1\n",
      ">         b0z = b0\n",
      ">         b1z[cols(b1)] = 0\n",
      ">         b0z[cols(b0)] = 0\n",
      ">         A = (pi1c^2/sy12 + pi0c^2/sy02 + 2)\n",
      ">         B = (y1 - Xu*b1z')*pi1c/sy12 + (y0 - Xu*b0z')*pi0c/sy02 + (z - W*e' )\n",
      ">         uc = B/A + rnormal(rows(y), 1 , 0, 1/A)\n",
      ">     }  \n"
     ]
    }
   ],
   "source": [
    "%%stata\n",
    "mata:\n",
    "    for (d=1;d<=draws;d++) {\n",
    "\n",
    "        Xu = (X, ur, uc)\n",
    "        y0Hat = Xu*b0' :+ rnormal(rows(y) , 1, 0, 1):*sqrt(sy02)\n",
    "        y1Hat = Xu*b1' :+ rnormal(rows(y) , 1, 0, 1):*sqrt(sy12)\n",
    "        y1 = tr:*y :+ (1 :- tr):*y1Hat\n",
    "        y0 = (1 :- tr):*y :+ tr:*y0Hat\n",
    "\n",
    "        muz = W*e' :+ uc\n",
    "        et  = invnormstab( normal(-muz) :+ (1 :- normal(-muz)):*runiform(rows(muz),1) )\n",
    "        ent = invnormstab( normal(-muz):*runiform(rows(muz),1))\n",
    "        z = muz :+ et:*tr :+ ent:*(1:-tr)\n",
    "        meane = invsym(W'W + invsym(Te))*W'(z :- uc)\n",
    "        vare  = invsym(W'W + invsym(Te))\n",
    "        e = meane + cholesky(vare)*rnormal(cols(e),1,0,1)\n",
    "        e = e'\n",
    "\n",
    "        Xu = X, ur, uc\n",
    "        mb1 = invsym(Xu'Xu + invsym(Tb))*Xu'y1\n",
    "        mb0 = invsym(Xu'Xu + invsym(Tb))*Xu'y0\n",
    "        vb1 = sy12*invsym(Xu'Xu + invsym(Tb))\n",
    "        vb0 = sy02*invsym(Xu'Xu + invsym(Tb))\n",
    "        chol1b = cholesky(vb1)\n",
    "        chol0b = cholesky(vb0)\n",
    "        b1 = mb1 + chol1b*rnormal(nb, 1, 0, 1)\n",
    "        b1 = b1'\n",
    "        b0 = mb0 + chol0b*rnormal(nb, 1, 0, 1)\n",
    "        b0 = b0'\n",
    "\n",
    "        shp = rows(y)/2\n",
    "        scl = (y-Xu*b1')'(y-Xu*b1')/2\n",
    "        scl = 1/scl\n",
    "        sy12 = rgamma(1, 1, shp, scl)\n",
    "\n",
    "        scl = (y-Xu*b0')'(y-Xu*b0')/2\n",
    "        scl = 1/scl\n",
    "        sy02 = rgamma(1, 1, shp, scl)\n",
    "\n",
    "        b1Hold  =  b1Hold \\ b1\n",
    "        b0Hold  = b0Hold \\ b0\n",
    "        eHold   =  eHold \\ e\n",
    "        sy1Hold =  sy1Hold \\ sy12\n",
    "        sy0Hold =  sy0Hold \\ sy02\n",
    "        \n",
    "        /* Draw latent vars */\n",
    "        \n",
    "        pi1r = b1[cols(b1) - 1]\n",
    "        pi0r = b0[cols(b0) - 1]\n",
    "        b1z = b1\n",
    "        b0z = b0\n",
    "        b1z[cols(b1) - 1] = 0\n",
    "        b0z[cols(b0) - 1] = 0\n",
    "        A = (pi1r^2/sy12 + pi0r^2/sy02 + 1)\n",
    "        B = (y1 - Xu*b1z')*pi1r/sy12 + (y0 - Xu*b0z')*pi0r/sy02\n",
    "        ur = B/A + rnormal(rows(y), 1 , 0, 1/A)\n",
    "\n",
    "        pi1c = b1[cols(b1)]\n",
    "        pi0c = b0[cols(b0)]\n",
    "        b1z = b1\n",
    "        b0z = b0\n",
    "        b1z[cols(b1)] = 0\n",
    "        b0z[cols(b0)] = 0\n",
    "        A = (pi1c^2/sy12 + pi0c^2/sy02 + 2)\n",
    "        B = (y1 - Xu*b1z')*pi1c/sy12 + (y0 - Xu*b0z')*pi0c/sy02 + (z - W*e' )\n",
    "        uc = B/A + rnormal(rows(y), 1 , 0, 1/A)\n",
    "    }  \n",
    "end"
   ]
  },
  {
   "cell_type": "markdown",
   "metadata": {},
   "source": [
    "Now, we can take a look at the results. As usual, we just read these in and summarize them. "
   ]
  },
  {
   "cell_type": "code",
   "execution_count": 12,
   "metadata": {
    "collapsed": false
   },
   "outputs": [
    {
     "name": "stdout",
     "output_type": "stream",
     "text": [
      "\n",
      "already preserved\n",
      "r(621);\n",
      "\n",
      "    Variable |        Obs        Mean    Std. Dev.       Min        Max\n",
      "-------------+---------------------------------------------------------\n",
      "         b11 |     10,000    .0556255    .0738955   -.079713   .2285767\n",
      "         b12 |     10,000    .3731535    .1124887   .0817961     .61062\n",
      "         b13 |     10,000    .3034906    .3790581  -.5735484   1.389658\n",
      "         b14 |     10,000   -.9669083    .5553637  -2.476367   .2401075\n",
      "         b15 |     10,000    .0056944    .1711295  -.3573101   .4158455\n",
      "-------------+---------------------------------------------------------\n",
      "         b16 |     10,000   -.4200822    1.806337  -4.178572   5.080385\n",
      "         b17 |     10,000   -5.721623    1.037817  -7.087616   .0067545\n",
      "         b18 |     10,000    4.459617    .6247456   .0213472    5.39313\n",
      "\n",
      "    Variable |        Obs        Mean    Std. Dev.       Min        Max\n",
      "-------------+---------------------------------------------------------\n",
      "         b01 |     10,000    .0946555    .0616816  -.0357573   .2718903\n",
      "         b02 |     10,000     .257683    .1373071  -.0349388   .6156185\n",
      "         b03 |     10,000    .8558998    .4393446  -.2515009   1.958823\n",
      "         b04 |     10,000   -.5649015    .6882695  -1.800862    .863156\n",
      "         b05 |     10,000    .3069971    .2123484   -.174922   .7158744\n",
      "-------------+---------------------------------------------------------\n",
      "         b06 |     10,000   -.5006734    2.393655    -7.5446   3.913672\n",
      "         b07 |     10,000    5.768935    1.002838   .0544024   7.916563\n",
      "         b08 |     10,000    8.403279    1.044686   .0614493   10.27635\n",
      "\n",
      "    Variable |        Obs        Mean    Std. Dev.       Min        Max\n",
      "-------------+---------------------------------------------------------\n",
      "     sy1Hold |     10,000    .0664215    .0342648   .0266258   .3089132\n",
      "\n",
      "    Variable |        Obs        Mean    Std. Dev.       Min        Max\n",
      "-------------+---------------------------------------------------------\n",
      "     sy0Hold |     10,000    .0730376    .0496664   .0400705   1.095298\n"
     ]
    }
   ],
   "source": [
    "%%stata \n",
    "preserve\n",
    "clear\n",
    "getmata (b1*) = b1Hold\n",
    "getmata (b0*) = b0Hold\n",
    "getmata (e*) = eHold\n",
    "getmata sy1Hold\n",
    "getmata sy0Hold\n",
    "\n",
    "sum b1*\n",
    "sum b0*\n",
    "sum sy1Hold\n",
    "sum sy0Hold"
   ]
  },
  {
   "cell_type": "markdown",
   "metadata": {},
   "source": [
    "Let's also produce a few graphs so that we can see how these things evolve over time."
   ]
  },
  {
   "cell_type": "code",
   "execution_count": 15,
   "metadata": {
    "collapsed": false
   },
   "outputs": [
    {
     "name": "stdout",
     "output_type": "stream",
     "text": [
      "\n",
      "variable t already defined\n",
      "r(110);\n",
      "        time variable:  t, 1 to 10000\n",
      "                delta:  1 unit\n",
      "> eplace width(1000) height(800)\n"
     ]
    },
    {
     "data": {
      "image/png": "[encoded data removed]",
      "text/plain": [
       "<IPython.core.display.Image object>"
      ]
     },
     "execution_count": 15,
     "metadata": {
      "image/png": {
       "height": 400,
       "width": 500
      }
     },
     "output_type": "execute_result"
    }
   ],
   "source": [
    "%%stata -gr\n",
    "gen t = _n\n",
    "tsset t\n",
    "tsline sy0Hold sy1Hold if t>4999"
   ]
  },
  {
   "cell_type": "markdown",
   "metadata": {},
   "source": [
    "In the next worksheet, we will try and see if we can get a dummy treatment, dummy response example going. But we should also measure the average treatment effect. "
   ]
  },
  {
   "cell_type": "code",
   "execution_count": null,
   "metadata": {
    "collapsed": true
   },
   "outputs": [],
   "source": []
  }
 ],
 "metadata": {
  "anaconda-cloud": {},
  "kernelspec": {
   "display_name": "Python [Root]",
   "language": "python",
   "name": "Python [Root]"
  },
  "language_info": {
   "codemirror_mode": {
    "name": "ipython",
    "version": 3
   },
   "file_extension": ".py",
   "mimetype": "text/x-python",
   "name": "python",
   "nbconvert_exporter": "python",
   "pygments_lexer": "ipython3",
   "version": "3.5.2"
  }
 },
 "nbformat": 4,
 "nbformat_minor": 0
}
