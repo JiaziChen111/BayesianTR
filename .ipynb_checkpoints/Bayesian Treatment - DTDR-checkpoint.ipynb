{
 "cells": [
  {
   "cell_type": "markdown",
   "metadata": {},
   "source": [
    "# Bayesian Treatment \n",
    "\n",
    "## Dichomtomous treatment and response\n",
    "\n",
    "Finally, we get to what is perhaps the trickiest case - a situation in which we have treatment and response which are binary. In this case, we have to simulate latent variables to capture correlation across equations, and also the two unobserved latent variables dictating outcomes. \n",
    "\n",
    "One thing about this is that it leaves the whole situation with the covariance matrix a little uncertain. If I am doing things correctly, it seems we have to put the prior to work to identify the model. Anyways, here it goes!"
   ]
  },
  {
   "cell_type": "markdown",
   "metadata": {},
   "source": [
    "The model now consists of a treatment equation which determines who winds up treated or not, according to the latent variable:\n",
    "\n",
    "$$\n",
    "z = W\\eta + u_c + e_z, \\quad z^*=1 \\qquad \\textrm{if} \\qquad z>0\n",
    "$$\n",
    "\n",
    "If treated, we have an outcome dictated by\n",
    "\n",
    "$$\n",
    "y_1 = X\\beta_1 + \\pi_{1c}u_c + \\pi_{1r}u_r+e_1, \\quad y_1^*=1 \\qquad \\textrm{if} \\qquad y>0\n",
    "$$\n",
    "\n",
    "and\n",
    "$$\n",
    "y_0 = X\\beta_0 + \\pi_{0c}u_c + \\pi_{0r}u_r+e_0, \\quad y_0^*=1 \\qquad \\textrm{if} \\qquad y>0\n",
    "$$\n",
    "\n",
    "As before, we can compute the covariance matrix as follows:\n",
    "\n",
    "$$\n",
    "\\Sigma=\\left[\n",
    "\\begin{array}{ccc}\n",
    "\\pi_{1c}^2+\\pi_{1r}^2+\\sigma_1^2 & \\pi_{1c}\\pi_{0c}+\\pi_{1r}\\pi_{0r} & \\pi_{1c} \\\\\n",
    " & \\pi_{0c}^2+\\pi_{0r}^2+\\sigma_0^2 & \\pi_{0c} \\\\\n",
    " & & 1 + \\sigma_t^2\n",
    "\\end{array}\n",
    "\\right]\n",
    "$$\n",
    "\n",
    "\n"
   ]
  },
  {
   "cell_type": "markdown",
   "metadata": {},
   "source": [
    "Even after assuming all latent variables are standard normal, there are seven things to be determined in this matrix. In the very best of all worlds. The question becomes: in this discrete-discrete world, what can possibly be identified? \n",
    "\n",
    "Some thoughts:\n",
    "\n",
    "1. In the typical probit, one makes a normalizing assumption: the variance on the latent variable is zero. Here, we have three variables like this (treatment, outcome when treated, outcome when not treated). So, it stands to reason that we have to normalize the variance on these terms (i. e., assume that $\\sigma_1^2=1,\\sigma_0^2=1,\\sigma_t^2=1$ or something to that effect.\n",
    "\n",
    "2. This now leads us, still, with four free parameters. This strikes me as too many for some ill-defined reason. But let's proceed and see what happens. "
   ]
  },
  {
   "cell_type": "markdown",
   "metadata": {
    "collapsed": true
   },
   "source": [
    "In terms of drawing values, we really need only follow what we did before, but now with the added step of drawing the unobserved variables $y_1$ and $y_0$. We don't actually see these, but draw them from a truncated normal. So, here goes the usual startup stuff:"
   ]
  },
  {
   "cell_type": "code",
   "execution_count": 1,
   "metadata": {
    "collapsed": false
   },
   "outputs": [
    {
     "data": {
      "application/javascript": [
       "IPython.CodeCell.config_defaults.highlight_modes['magic_stata'] = {'reg':[/^%%stata/]};"
      ]
     },
     "metadata": {},
     "output_type": "display_data"
    }
   ],
   "source": [
    "import ipystata"
   ]
  },
  {
   "cell_type": "code",
   "execution_count": 2,
   "metadata": {
    "collapsed": false
   },
   "outputs": [
    {
     "name": "stdout",
     "output_type": "stream",
     "text": [
      "\n",
      "(National Longitudinal Survey.  Young Women 14-26 years of age in 1968)\n",
      "(449 observations deleted)\n",
      "(34 observations deleted)\n",
      "\n",
      "Contains data from http://www.stata-press.com/data/r13/union3.dta\n",
      "  obs:         1,210                          National Longitudinal Survey.\n",
      "                                                Young Women 14-26 years of age\n",
      "                                                in 1968\n",
      " vars:            24                          11 Mar 2013 09:47\n",
      " size:        55,660                          \n",
      "--------------------------------------------------------------------------------\n",
      "              storage   display    value\n",
      "variable name   type    format     label      variable label\n",
      "--------------------------------------------------------------------------------\n",
      "idcode          int     %8.0g                 NLS ID\n",
      "year            byte    %8.0g                 interview year\n",
      "birth_yr        byte    %8.0g                 birth year\n",
      "age             byte    %8.0g                 age in current year\n",
      "race            byte    %8.0g      racelbl    race\n",
      "msp             byte    %8.0g                 1 if married, spouse present\n",
      "nev_mar         byte    %8.0g                 1 if never married\n",
      "grade           byte    %8.0g                 current grade completed\n",
      "collgrad        byte    %8.0g                 1 if college graduate\n",
      "not_smsa        byte    %8.0g                 1 if not SMSA\n",
      "c_city          byte    %8.0g                 1 if central city\n",
      "south           byte    %8.0g                 1 if south\n",
      "ind_code        byte    %8.0g                 industry of employment\n",
      "occ_code        byte    %8.0g                 occupation\n",
      "union           byte    %8.0g                 1 if union\n",
      "wks_ue          byte    %8.0g                 weeks unemployed last year\n",
      "ttl_exp         float   %9.0g                 total work experience\n",
      "tenure          float   %9.0g                 job tenure, in years\n",
      "hours           int     %8.0g                 usual hours worked\n",
      "wks_work        int     %8.0g                 weeks worked last year\n",
      "ln_wage         float   %9.0g                 ln(wage/GNP deflator)\n",
      "wage            double  %10.0g                real wage\n",
      "black           float   %9.0g                 race black\n",
      "smsa            byte    %8.0g                 1 if SMSA\n",
      "--------------------------------------------------------------------------------\n",
      "Sorted by: idcode  year\n",
      "     Note: Dataset has changed since last saved.\n"
     ]
    }
   ],
   "source": [
    "%%stata \n",
    "clear all\n",
    "use http://www.stata-press.com/data/r13/union3\n",
    "set more off\n",
    "keep if union != . \n",
    "keep if tenure != .\n",
    "set seed 42\n",
    "describe"
   ]
  },
  {
   "cell_type": "markdown",
   "metadata": {},
   "source": [
    "Now, we will generate a dichotomous outcome variable for comparison purposes. This variable is `highwage` which indicates whether or not someone made a wage greater than the avereage wage over a particular time. We should also see how it varies across our two populations: union and non-union."
   ]
  },
  {
   "cell_type": "code",
   "execution_count": 3,
   "metadata": {
    "collapsed": false
   },
   "outputs": [
    {
     "name": "stdout",
     "output_type": "stream",
     "text": [
      "\n",
      "    Variable |        Obs        Mean    Std. Dev.       Min        Max\n",
      "-------------+---------------------------------------------------------\n",
      "        wage |      1,210    5.665964    2.293624   1.070664   21.41328\n",
      "\n",
      "           |      1 if union\n",
      "  highwage |         0          1 |     Total\n",
      "-----------+----------------------+----------\n",
      "         0 |       609        103 |       712 \n",
      "         1 |       348        150 |       498 \n",
      "-----------+----------------------+----------\n",
      "     Total |       957        253 |     1,210 \n"
     ]
    }
   ],
   "source": [
    "%%stata\n",
    "sum wage\n",
    "gen highwage = wage > r(mean)\n",
    "tab highwage union"
   ]
  },
  {
   "cell_type": "markdown",
   "metadata": {},
   "source": [
    "Just to get a feel for things, let's take a look at some initial models and also use the opportunity to make some starting values:"
   ]
  },
  {
   "cell_type": "code",
   "execution_count": 4,
   "metadata": {
    "collapsed": false
   },
   "outputs": [
    {
     "name": "stdout",
     "output_type": "stream",
     "text": [
      "\n",
      "Iteration 0:   log likelihood = -170.97516  \n",
      "Iteration 1:   log likelihood = -136.25418  \n",
      "Iteration 2:   log likelihood = -135.91309  \n",
      "Iteration 3:   log likelihood = -135.91304  \n",
      "Iteration 4:   log likelihood = -135.91304  \n",
      "\n",
      "Probit regression                               Number of obs     =        253\n",
      "                                                LR chi2(5)        =      70.12\n",
      "                                                Prob > chi2       =     0.0000\n",
      "Log likelihood = -135.91304                     Pseudo R2         =     0.2051\n",
      "\n",
      "------------------------------------------------------------------------------\n",
      "    highwage |      Coef.   Std. Err.      z    P>|z|     [95% Conf. Interval]\n",
      "-------------+----------------------------------------------------------------\n",
      "         age |   .0339711   .0319533     1.06   0.288    -.0286562    .0965984\n",
      "       grade |   .2139493   .0506195     4.23   0.000     .1147369    .3131618\n",
      "        smsa |   .8096049   .2238524     3.62   0.000     .3708622    1.248348\n",
      "       black |  -.5022391   .1909127    -2.63   0.009    -.8764211   -.1280571\n",
      "      tenure |   .2656274    .063526     4.18   0.000     .1411187     .390136\n",
      "       _cons |  -4.208183   .9017609    -4.67   0.000    -5.975602   -2.440764\n",
      "------------------------------------------------------------------------------\n",
      "\n",
      "Iteration 0:   log likelihood = -627.29606  \n",
      "Iteration 1:   log likelihood = -479.80442  \n",
      "Iteration 2:   log likelihood = -478.03303  \n",
      "Iteration 3:   log likelihood = -478.03208  \n",
      "Iteration 4:   log likelihood = -478.03208  \n",
      "\n",
      "Probit regression                               Number of obs     =        957\n",
      "                                                LR chi2(5)        =     298.53\n",
      "                                                Prob > chi2       =     0.0000\n",
      "Log likelihood = -478.03208                     Pseudo R2         =     0.2379\n",
      "\n",
      "------------------------------------------------------------------------------\n",
      "    highwage |      Coef.   Std. Err.      z    P>|z|     [95% Conf. Interval]\n",
      "-------------+----------------------------------------------------------------\n",
      "         age |   .0683087   .0174997     3.90   0.000       .03401    .1026075\n",
      "       grade |    .314856   .0321256     9.80   0.000     .2518911    .3778209\n",
      "        smsa |   .8411779   .1193297     7.05   0.000     .6072959     1.07506\n",
      "       black |  -.2884718   .1154312    -2.50   0.012    -.5147129   -.0622308\n",
      "      tenure |   .2297232    .030103     7.63   0.000     .1707223    .2887241\n",
      "       _cons |  -6.901966   .5542053   -12.45   0.000    -7.988189   -5.815744\n",
      "------------------------------------------------------------------------------\n",
      "\n",
      "Iteration 0:   log likelihood = -620.42714  \n",
      "Iteration 1:   log likelihood = -592.34076  \n",
      "Iteration 2:   log likelihood = -592.15539  \n",
      "Iteration 3:   log likelihood = -592.15536  \n",
      "\n",
      "Probit regression                               Number of obs     =      1,210\n",
      "                                                LR chi2(3)        =      56.54\n",
      "                                                Prob > chi2       =     0.0000\n",
      "Log likelihood = -592.15536                     Pseudo R2         =     0.0456\n",
      "\n",
      "------------------------------------------------------------------------------\n",
      "       union |      Coef.   Std. Err.      z    P>|z|     [95% Conf. Interval]\n",
      "-------------+----------------------------------------------------------------\n",
      "       south |  -.4895032   .0933276    -5.24   0.000    -.6724221   -.3065844\n",
      "       black |   .4397974   .0972261     4.52   0.000     .2492377    .6303572\n",
      "      tenure |   .0997638   .0236575     4.22   0.000      .053396    .1461317\n",
      "       _cons |  -.9679795   .0746464   -12.97   0.000    -1.114284   -.8216753\n",
      "------------------------------------------------------------------------------\n"
     ]
    }
   ],
   "source": [
    "%%stata\n",
    "probit highwage age grade smsa black tenure if union == 1\n",
    "mat binit1 = e(b)\n",
    "\n",
    "probit highwage age grade smsa black tenure if union == 0\n",
    "mat binit0 = e(b) \n",
    "\n",
    "probit union south black tenure\n",
    "mat einit = e(b)"
   ]
  },
  {
   "cell_type": "markdown",
   "metadata": {},
   "source": [
    "No sense waiting around, so we might as well dive right in and see what happens when we set up a Bayesian analysis. Let's get all the data and all our initial values into `Mata`. Note how we add two additional parameters to the regression parameters. These are for holding our cross-equation correlations.\n",
    "\n",
    "We also make a few place-holders for other stuff - draws and all those things. Additionally, we lay out the prior values and put in place some initial values. "
   ]
  },
  {
   "cell_type": "code",
   "execution_count": 10,
   "metadata": {
    "collapsed": false
   },
   "outputs": [
    {
     "name": "stdout",
     "output_type": "stream",
     "text": [
      "Mata output:\n",
      "\n",
      ":     st_view(y=., ., \"highwage\")\n",
      "\n",
      ":     st_view(tr=., ., \"union\")\n",
      "\n",
      ":     st_view(X=., ., \"age grade smsa black tenure\")\n",
      "\n",
      ":     st_view(W=., ., \"south black tenure\")\n",
      "\n",
      ":     X = X, J(rows(y), 1, 1)\n",
      "\n",
      ":     W = W, J(rows(y), 1, 1)\n",
      "\n",
      ":     \n",
      ":     b1 = st_matrix(\"binit1\"), 0, 0\n",
      "\n",
      ":     b0 = st_matrix(\"binit0\"), 0, 0\n",
      "\n",
      ":     e = st_matrix(\"einit\")\n",
      "\n",
      ":     \n",
      ":     nb = cols(b1)\n",
      "\n",
      ":     ne = cols(e)\n",
      "\n",
      ":     b0Hold        = J(0, nb, .)\n",
      "\n",
      ":     eHold         = J(0, ne, .)\n",
      "\n",
      ":     Tb0 = I(nb)*1000\n",
      "\n",
      ":     Te = I(ne)*1000\n",
      "\n",
      ":     uc = rnormal(rows(y), 1, 0, 1)    \n",
      "\n",
      ":     \n",
      ":     draws = 10000\n"
     ]
    }
   ],
   "source": [
    "%%stata --mata\n",
    "    st_view(y=., ., \"highwage\")\n",
    "    st_view(tr=., ., \"union\")\n",
    "    st_view(X=., ., \"age grade smsa black tenure\")\n",
    "    st_view(W=., ., \"south black tenure\")\n",
    "    X = X, J(rows(y), 1, 1)\n",
    "    W = W, J(rows(y), 1, 1)\n",
    "    \n",
    "    b1 = st_matrix(\"binit1\"), 0, 0\n",
    "    b0 = st_matrix(\"binit0\"), 0, 0\n",
    "    e = st_matrix(\"einit\")\n",
    "    \n",
    "    nb = cols(b1)\n",
    "    ne = cols(e)\n",
    "\n",
    "    b1Hold        = J(0, nb, .)\n",
    "    b0Hold        = J(0, nb, .)\n",
    "    eHold         = J(0, ne, .)\n",
    "\n",
    "    Tb1 = I(nb)*1000\n",
    "    Tb0 = I(nb)*1000\n",
    "    Te = I(ne)*1000\n",
    "\n",
    "    ur = rnormal(rows(y), 1, 0, 1)\n",
    "    uc = rnormal(rows(y), 1, 0, 1)    \n",
    "    \n",
    "    draws = 10000"
   ]
  },
  {
   "cell_type": "markdown",
   "metadata": {},
   "source": [
    "As before, we have discovered a problem with using `Stata's` `invnormal` statement. When the `normal` function returns a value of 0 or 1, the `invnormal` function will return missing. So, we make a function that returns very small or very close to one values when near the edges, as follows"
   ]
  },
  {
   "cell_type": "code",
   "execution_count": 7,
   "metadata": {
    "collapsed": false
   },
   "outputs": [
    {
     "name": "stdout",
     "output_type": "stream",
     "text": [
      "Mata output:\n",
      "\n",
      ":     real matrix invnormstab(X) {\n",
      ">         XHat = editvalue(X, 0, 1e-323)\n",
      ">         XHat = editvalue(XHat, 1, 1-1e-16)\n",
      ">         return(invnormal(XHat))\n",
      ">     }\n"
     ]
    }
   ],
   "source": [
    "%%stata --mata\n",
    "    real matrix invnormstab(X) {\n",
    "        XHat = editvalue(X, 0, 1e-323)\n",
    "        XHat = editvalue(XHat, 1, 1-1e-16)\n",
    "        return(invnormal(XHat))\n",
    "    }"
   ]
  },
  {
   "cell_type": "markdown",
   "metadata": {},
   "source": [
    "## The Main Loop\n",
    "\n",
    "We now can write the main loop, which draws all the variables sequentially. It works as follows:\n",
    "\n",
    "1. Draw values for $y0$ and $y1$ from a truncated normal distribution depending on the outcome. \n",
    "2. Draw values for $z$ from a truncated normal distribution depending on treatment.\n",
    "3. Draw values for $\\beta,\\pi_c,\\pi_r$ from the standard conditional normal distribution for regression parameters.\n",
    "4. Draw values for latent $ur$ - component of error common across outcomes.\n",
    "5. Draw values for latent $uc$ - component of error terms common across outcomes and treatment. \n",
    "\n",
    "**Notes** One thing that is interesting about this is that we never have to draw variance terms from an inverse gamma!\n",
    "\n",
    "### The Loop"
   ]
  },
  {
   "cell_type": "code",
   "execution_count": 11,
   "metadata": {
    "collapsed": false
   },
   "outputs": [
    {
     "name": "stdout",
     "output_type": "stream",
     "text": [
      "Mata output:\n",
      "\n",
      ":     for (d=1;d<=draws;d++) {\n",
      "> \n",
      ">         Xu = (X, ur, uc)\n",
      ">         muXu0 = Xu*b0'\n",
      ">         muXu1 = Xu*b1'\n",
      "> \n",
      ">         y0Hatnt = muXu0 + invnormstab(normal(-muXu0):*runiform(rows(y),1)):*(1\n",
      ">  :- y) + \n",
      ">                         invnormstab(normal(-muXu0) + (1 :- normal(-muXu0)):*ru\n",
      "> niform(rows(y),1)):*y\n",
      ">         y0Hatt   = muXu0 + rnormal(rows(y), 1, 0, 1)\n",
      ">         y0 = tr:*y0Hatt + (1 :- tr):*y0Hatnt\n",
      ">   \n",
      ">         y1Hatnt = muXu1 + rnormal(rows(y), 1, 0, 1)\n",
      ">         y1Hatt   = muXu1 + invnormstab(normal(-muXu1):*runiform(rows(y),1)):*(\n",
      "> 1 :- y) +\n",
      ">                         invnormstab(normal(-muXu1) + (1 :- normal(-muXu1)):*ru\n",
      "> niform(rows(y),1)):*y\n",
      ">         y1 = tr:*y1Hatt + (1 :- tr):*y1Hatnt\n",
      ">   \n",
      ">         muz = W*e' :+ uc\n",
      ">         et  = invnormstab( normal(-muz) :+ (1 :- normal(-muz)):*runiform(rows(\n",
      "> muz),1) )\n",
      ">         ent = invnormstab( normal(-muz):*runiform(rows(muz),1))\n",
      ">         z = muz :+ et:*tr :+ ent:*(1:-tr)\n",
      "> \n",
      ">         meane = invsym(W'W + invsym(Te))*W'(z :- uc)\n",
      ">         vare  = invsym(W'W + invsym(Te))\n",
      ">         e = meane + cholesky(vare)*rnormal(cols(e),1,0,1)\n",
      ">         e = e'\n",
      "> \n",
      ">         mb1 = invsym(Xu'Xu + invsym(Tb1))*Xu'y1\n",
      ">         mb0 = invsym(Xu'Xu + invsym(Tb0))*Xu'y0\n",
      ">         vb1 = invsym(Xu'Xu + invsym(Tb1))\n",
      ">         vb0 = invsym(Xu'Xu + invsym(Tb0))\n",
      ">         chol1b = cholesky(vb1)\n",
      ">         chol0b = cholesky(vb0)\n",
      ">         b1 = mb1 + chol1b*rnormal(nb, 1, 0, 1)\n",
      ">         b1 = b1'\n",
      ">         b0 = mb0 + chol0b*rnormal(nb, 1, 0, 1)\n",
      ">         b0 = b0'\n",
      "> \n",
      ">         b1Hold  =  b1Hold \\ b1\n",
      ">         b0Hold  = b0Hold \\ b0\n",
      ">         eHold   =  eHold \\ e\n",
      ">         \n",
      ">         pi1r = b1[cols(b1) - 1]\n",
      ">         pi0r = b0[cols(b0) - 1]\n",
      ">         b1z = b1\n",
      ">         b0z = b0\n",
      ">         b1z[cols(b1) - 1] = 0\n",
      ">         b0z[cols(b0) - 1] = 0\n",
      ">         A = (pi1r^2 + pi0r^2 + 1)\n",
      ">         B = (y1 - Xu*b1z')*pi1r + (y0 - Xu*b0z')*pi0r\n",
      ">         ur = B/A + rnormal(rows(y), 1 , 0, 1/A)\n",
      "> \n",
      ">         pi1c = b1[cols(b1)]\n",
      ">         pi0c = b0[cols(b0)]\n",
      ">         b1z = b1\n",
      ">         b0z = b0\n",
      ">         b1z[cols(b1)] = 0\n",
      ">         b0z[cols(b0)] = 0\n",
      ">         A = (pi1c^2 + pi0c^2 + 2)\n",
      ">         B = (y1 - Xu*b1z')*pi1c + (y0 - Xu*b0z')*pi0c + (z - W*e' )\n",
      ">         uc = B/A + rnormal(rows(y), 1 , 0, 1/A)\n",
      ">     } \n"
     ]
    }
   ],
   "source": [
    "%%stata --mata\n",
    "    for (d=1;d<=draws;d++) {\n",
    "\n",
    "        Xu = (X, ur, uc)\n",
    "        muXu0 = Xu*b0'\n",
    "        muXu1 = Xu*b1'\n",
    "\n",
    "        y0Hatnt = muXu0 + invnormstab(normal(-muXu0):*runiform(rows(y),1)):*(1 :- y) + \n",
    "                        invnormstab(normal(-muXu0) + (1 :- normal(-muXu0)):*runiform(rows(y),1)):*y\n",
    "        y0Hatt   = muXu0 + rnormal(rows(y), 1, 0, 1)\n",
    "        y0 = tr:*y0Hatt + (1 :- tr):*y0Hatnt\n",
    "  \n",
    "        y1Hatnt = muXu1 + rnormal(rows(y), 1, 0, 1)\n",
    "        y1Hatt   = muXu1 + invnormstab(normal(-muXu1):*runiform(rows(y),1)):*(1 :- y) +\n",
    "                        invnormstab(normal(-muXu1) + (1 :- normal(-muXu1)):*runiform(rows(y),1)):*y\n",
    "        y1 = tr:*y1Hatt + (1 :- tr):*y1Hatnt\n",
    "  \n",
    "        muz = W*e' :+ uc\n",
    "        et  = invnormstab( normal(-muz) :+ (1 :- normal(-muz)):*runiform(rows(muz),1) )\n",
    "        ent = invnormstab( normal(-muz):*runiform(rows(muz),1))\t\t\n",
    "        z = muz :+ et:*tr :+ ent:*(1:-tr)\n",
    "\n",
    "        meane = invsym(W'W + invsym(Te))*W'(z :- uc)\n",
    "        vare  = invsym(W'W + invsym(Te))\n",
    "        e = meane + cholesky(vare)*rnormal(cols(e),1,0,1)\n",
    "        e = e'\n",
    "\n",
    "        mb1 = invsym(Xu'Xu + invsym(Tb1))*Xu'y1\n",
    "        mb0 = invsym(Xu'Xu + invsym(Tb0))*Xu'y0\n",
    "        vb1 = invsym(Xu'Xu + invsym(Tb1))\n",
    "        vb0 = invsym(Xu'Xu + invsym(Tb0))\n",
    "        chol1b = cholesky(vb1)\n",
    "        chol0b = cholesky(vb0)\n",
    "        b1 = mb1 + chol1b*rnormal(nb, 1, 0, 1)\n",
    "        b1 = b1'\n",
    "        b0 = mb0 + chol0b*rnormal(nb, 1, 0, 1)\n",
    "        b0 = b0'\n",
    "\n",
    "        b1Hold  =  b1Hold \\ b1\n",
    "        b0Hold  = b0Hold \\ b0\n",
    "        eHold   =  eHold \\ e\n",
    "        \n",
    "        pi1r = b1[cols(b1) - 1]\n",
    "        pi0r = b0[cols(b0) - 1]\n",
    "        b1z = b1\n",
    "        b0z = b0\n",
    "        b1z[cols(b1) - 1] = 0\n",
    "        b0z[cols(b0) - 1] = 0\n",
    "        A = (pi1r^2 + pi0r^2 + 1)\n",
    "        B = (y1 - Xu*b1z')*pi1r + (y0 - Xu*b0z')*pi0r\n",
    "        ur = B/A + rnormal(rows(y), 1 , 0, 1/A)\n",
    "\n",
    "        pi1c = b1[cols(b1)]\n",
    "        pi0c = b0[cols(b0)]\n",
    "        b1z = b1\n",
    "        b0z = b0\n",
    "        b1z[cols(b1)] = 0\n",
    "        b0z[cols(b0)] = 0\n",
    "        A = (pi1c^2 + pi0c^2 + 2)\n",
    "        B = (y1 - Xu*b1z')*pi1c + (y0 - Xu*b0z')*pi0c + (z - W*e' )\n",
    "        uc = B/A + rnormal(rows(y), 1 , 0, 1/A)\n",
    "    } "
   ]
  },
  {
   "cell_type": "markdown",
   "metadata": {},
   "source": [
    "Let's take a look and see how it all worked out. I'm guessing that we have an identification problem, so we get:"
   ]
  },
  {
   "cell_type": "code",
   "execution_count": 13,
   "metadata": {
    "collapsed": false
   },
   "outputs": [
    {
     "name": "stdout",
     "output_type": "stream",
     "text": [
      "\n",
      "        time variable:  t, 1 to 10000\n",
      "                delta:  1 unit\n",
      "\n",
      "    Variable |        Obs        Mean    Std. Dev.       Min        Max\n",
      "-------------+---------------------------------------------------------\n",
      "         b11 |     10,000    .1142533    .2489816  -.4383197   .8085564\n",
      "         b12 |     10,000    1.669171    .6311505   .0998551   3.233152\n",
      "         b13 |     10,000    5.372146    3.548025  -.1085253   14.25056\n",
      "         b14 |     10,000   -2.029382    1.973753  -5.509593   6.182053\n",
      "         b15 |     10,000     1.62705    .5017001   .0787046   2.693344\n",
      "-------------+---------------------------------------------------------\n",
      "         b16 |     10,000   -29.64286    12.22315  -58.94363  -2.139115\n",
      "         b17 |     10,000    11.08614    4.751924  -.2504247    20.0633\n",
      "         b18 |     10,000    1.666276    1.176502  -1.213276   4.249306\n",
      "         b01 |     10,000    .8814678    .4110513   .0328335   1.748193\n",
      "         b02 |     10,000     3.49671    1.115333   .2827381   5.466122\n",
      "-------------+---------------------------------------------------------\n",
      "         b03 |     10,000    10.41071    3.100875   .6389691   15.44525\n",
      "         b04 |     10,000   -2.382599    1.946895   -7.98475   1.174713\n",
      "         b05 |     10,000    2.635055    1.016223   .1767622   5.189124\n",
      "         b06 |     10,000   -80.68259    27.08453  -124.1773  -6.411337\n",
      "         b07 |     10,000    16.81554    5.010754    .015042    28.3944\n",
      "-------------+---------------------------------------------------------\n",
      "         b08 |     10,000   -1.330383    1.203872  -4.936336   .8821272\n",
      "          e1 |     10,000   -.6387426    .1239101  -1.141292  -.1707232\n",
      "          e2 |     10,000     .579041    .1289456   .1504511   1.117079\n",
      "          e3 |     10,000    .1287052    .0313689   .0172854   .2463932\n",
      "          e4 |     10,000   -1.266823    .0990516   -1.60722  -.9040539\n"
     ]
    }
   ],
   "source": [
    "%%stata\n",
    "preserve\n",
    "clear\n",
    "getmata (b1*) = b1Hold\n",
    "getmata (b0*) = b0Hold\n",
    "getmata (e*) = eHold\n",
    "\n",
    "gen t = _n\n",
    "tsset t\n",
    "\n",
    "sum b* e*"
   ]
  },
  {
   "cell_type": "markdown",
   "metadata": {},
   "source": [
    "From the above, we seethat a couple of parameters are blowing up - most notably `b16` and `b06`, which are the regression constants. `b17` and `b07` don't seem to be doing all that much better. These are the parameters attached to the latent outcome variable. This isn't all that surprising - these seem to be the weakest link. It could even be that explosions in other parameters are occurring because of this. Just to take a look at these, and some other large parameters:"
   ]
  },
  {
   "cell_type": "code",
   "execution_count": 17,
   "metadata": {
    "collapsed": false
   },
   "outputs": [
    {
     "name": "stdout",
     "output_type": "stream",
     "text": [
      "\n",
      "> eplace width(1000) height(800)\n"
     ]
    },
    {
     "data": {
      "image/png": "[encoded data removed]",
      "text/plain": [
       "<IPython.core.display.Image object>"
      ]
     },
     "execution_count": 17,
     "metadata": {
      "image/png": {
       "height": 400,
       "width": 500
      }
     },
     "output_type": "execute_result"
    }
   ],
   "source": [
    "%%stata -gr\n",
    "tsline b16 b06 b07 b17 b03 b13"
   ]
  },
  {
   "cell_type": "markdown",
   "metadata": {},
   "source": [
    "## What is to be done? \n",
    "\n",
    "Well, there are a couple of things to be done. One is to just put priors on the parameters that restrict them to be a certain size. This is a bit unattractive without first knowing exactly why the problem is occurring, so I'm going to try and figure that out first. "
   ]
  },
  {
   "cell_type": "code",
   "execution_count": null,
   "metadata": {
    "collapsed": true
   },
   "outputs": [],
   "source": []
  }
 ],
 "metadata": {
  "kernelspec": {
   "display_name": "Python [Root]",
   "language": "python",
   "name": "Python [Root]"
  },
  "language_info": {
   "codemirror_mode": {
    "name": "ipython",
    "version": 3
   },
   "file_extension": ".py",
   "mimetype": "text/x-python",
   "name": "python",
   "nbconvert_exporter": "python",
   "pygments_lexer": "ipython3",
   "version": "3.5.2"
  }
 },
 "nbformat": 4,
 "nbformat_minor": 0
}
